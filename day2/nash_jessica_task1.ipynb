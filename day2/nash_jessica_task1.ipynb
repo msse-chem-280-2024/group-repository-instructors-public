{
 "cells": [
  {
   "cell_type": "markdown",
   "id": "8f146d3b-54e6-4c1e-91d8-ae1f275d2051",
   "metadata": {},
   "source": [
    "# Task 1\n",
    "\n",
    "## Task 1 - Systematic Investigation of Error in Monte Carlo Calculation\r\n",
    "\r\n",
    "For this task, you will return to your notebook where we calculated the value of $\\pi$ using Monte Carlo Methods.\r\n",
    "\r\n",
    "Your task is to investigate the effect of increasing the number of samples on the error of the calculation.\r\n",
    "\r\n",
    "Modify your Monte Carlo code to print the percent error in your pi calculation for `10`, `100`, `1000`, `10,000`, `100,000`, and `1,000,000` points. For an extra challenge, try visualizing your results using `matplotass: tip\r\n",
    "\r\n",
    "You can use `math.pi` as a reference value and `math.fabs` to get an absolute value when calculating your percerror.\r\n",
    "\r\n",
    "```\n"
   ]
  },
  {
   "cell_type": "code",
   "execution_count": 1,
   "id": "fb6d0d34-43d5-4154-b38d-45c431a613b0",
   "metadata": {},
   "outputs": [],
   "source": [
    "import math\n",
    "import random"
   ]
  },
  {
   "cell_type": "code",
   "execution_count": 2,
   "id": "ff4dd450-4754-4efe-b56c-511a827d6338",
   "metadata": {},
   "outputs": [],
   "source": [
    "samples = [10, 100, 1000, 10000, 100000, 1000000]"
   ]
  },
  {
   "cell_type": "code",
   "execution_count": 7,
   "id": "bdf2f347-cae6-4a1c-9578-deb0b243ecaa",
   "metadata": {},
   "outputs": [
    {
     "name": "stdout",
     "output_type": "stream",
     "text": [
      "10 3.6 14.59155902616465\n",
      "100 2.92 7.053513234333122\n",
      "1000 3.136 0.17801969276323767\n",
      "10000 3.1328 0.27987885634205356\n",
      "100000 3.13856 0.09653236190019057\n",
      "1000000 3.14294 0.04288736824830429\n"
     ]
    }
   ],
   "source": [
    "pi_values = []\n",
    "error_values = []\n",
    "\n",
    "# I added this outer for loop to the code from class\n",
    "for n_samples in samples:\n",
    "    # define variable for count\n",
    "    num_inside = 0\n",
    "    \n",
    "    # write a for loop to generate n_samples points\n",
    "    for i in range(n_samples):\n",
    "    \n",
    "        # Generate a random point between 0 and 1 for x value.\n",
    "        x = random.random()\n",
    "    \n",
    "        # Generate a random point betwen 0 and 1 for y value.\n",
    "        y = random.random()\n",
    "    \n",
    "        # calculate if point is within unit circle.\n",
    "        r = math.sqrt( x ** 2 + y ** 2)\n",
    "    \n",
    "        # increase counter if r is less than 1\n",
    "        if r < 1:\n",
    "            num_inside += 1\n",
    "    \n",
    "    # Calculate pi\n",
    "    my_pi = 4 * num_inside / n_samples\n",
    "    pi_values.append(my_pi)\n",
    "\n",
    "    # Calculate error\n",
    "    error = math.fabs( (math.pi - my_pi) / math.pi ) * 100\n",
    "    error_values.append(error)\n",
    "\n",
    "    print(n_samples, my_pi, error)\n",
    "    "
   ]
  },
  {
   "cell_type": "code",
   "execution_count": 8,
   "id": "8d966607-d186-4f6f-901f-8035a964b179",
   "metadata": {},
   "outputs": [
    {
     "data": {
      "text/plain": [
       "Text(0, 0.5, 'Number of Samples')"
      ]
     },
     "execution_count": 8,
     "metadata": {},
     "output_type": "execute_result"
    },
    {
     "data": {
      "image/png": "[encoded data removed]",
      "text/plain": [
       "<Figure size 400x500 with 1 Axes>"
      ]
     },
     "metadata": {},
     "output_type": "display_data"
    }
   ],
   "source": [
    "# create visualization\n",
    "\n",
    "import matplotlib.pyplot as plt\n",
    "\n",
    "fig = plt.figure(figsize=(4,5))\n",
    "ax = fig.add_subplot(111)\n",
    "\n",
    "ax.semilogx(samples, error_values, '--ob')\n",
    "ax.set_xlabel(\"Percent Error\")\n",
    "ax.set_ylabel(\"Number of Samples\")"
   ]
  },
  {
   "cell_type": "code",
   "execution_count": null,
   "id": "c7c7d6e3-18ac-495a-859d-2ae13db63957",
   "metadata": {},
   "outputs": [],
   "source": []
  }
 ],
 "metadata": {
  "kernelspec": {
   "display_name": "Python 3 (ipykernel)",
   "language": "python",
   "name": "python3"
  },
  "language_info": {
   "codemirror_mode": {
    "name": "ipython",
    "version": 3
   },
   "file_extension": ".py",
   "mimetype": "text/x-python",
   "name": "python",
   "nbconvert_exporter": "python",
   "pygments_lexer": "ipython3",
   "version": "3.11.4"
  }
 },
 "nbformat": 4,
 "nbformat_minor": 5
}
