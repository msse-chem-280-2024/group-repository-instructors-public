{
 "cells": [
  {
   "cell_type": "markdown",
   "id": "af42c3d8-6439-445f-9d2c-2a6dda895146",
   "metadata": {},
   "source": [
    "# Task 3 - Calculating the distance betweent two points\n",
    "\n",
    "Write a function called `calculate_distance` that takes in two coordinates as lists(`[x, y, z]`) and returns the distance between the two points.\r\n",
    "\r\n",
    "Use the information in the following docstring to write your funtion:\r\n",
    "\r\n",
    "```python\r\n",
    "def calculate_distance(coord1, coord2):\r\n",
    "   \"\"\"\r\n",
    "   Calculate the distance between two 3D coordinates.\r\n",
    "  \r\n",
    "   Parameters\r\n",
    "   ----------\r\n",
    "   coord1, coord2: list\r\n",
    "       The atomic coordinates\r\n",
    "   \r\n",
    "   Returns\r\n",
    "   -------\r\n",
    "   distance: float\r\n",
    "       The distance between the two points.\r\n",
    "   \"\"\"\r\n",
    "```\r\n",
    "\r\n",
    "After writing your function, include a few test cases \"sanity checks\" to ensure that your function isction\r\n",
    ":class: warning\r\n",
    " \r\n",
    "You cannot use a predefined distance function like h.dist`\r\n",
    "for this task.\r\n",
    "```\r\n",
    "\r\n",
    "In your submission, include a markdown cell that contains a reflection (at least five sentences) on your approach and observations."
   ]
  },
  {
   "cell_type": "code",
   "execution_count": 4,
   "id": "72bf2d99-36b4-4912-b801-901625ac3cea",
   "metadata": {},
   "outputs": [],
   "source": [
    "import math"
   ]
  },
  {
   "cell_type": "code",
   "execution_count": 5,
   "id": "3a87044e-1fc9-41ce-936c-8a44696e5cb7",
   "metadata": {},
   "outputs": [],
   "source": [
    "def calculate_distance(coord1, coord2):\n",
    "    \"\"\"\n",
    "    Calculate the distance between two 3D coordinates.\n",
    "    \n",
    "    Parameters\n",
    "    ----------\n",
    "    coord1, coord2: list\n",
    "       The atomic coordinates\n",
    "    \n",
    "    Returns\n",
    "    -------\n",
    "    distance: float\n",
    "       The distance between the two points.\n",
    "    \"\"\"\n",
    "\n",
    "    distance = 0\n",
    "    for i in range(3):\n",
    "        dim_dist = (coord1[i] - coord2[i]) ** 2\n",
    "        distance += dim_dist\n",
    "    \n",
    "    distance = math.sqrt(distance)\n",
    "    return distance"
   ]
  },
  {
   "cell_type": "code",
   "execution_count": 6,
   "id": "fc7013da-c77e-44c2-96d6-3e4820e0c77d",
   "metadata": {},
   "outputs": [],
   "source": [
    "# Sanity Checks\n",
    "\n",
    "point_1 = [0, 0, 0]\n",
    "point_2 = [1, 0, 0]\n",
    "\n",
    "dist1 = calculate_distance(point_1, point_2)\n",
    "assert dist1 == 1\n",
    "\n",
    "point_1 = [0, 0, 0]\n",
    "point_2 = [0, 1, 0]\n",
    "\n",
    "dist1 = calculate_distance(point_1, point_2)\n",
    "assert dist1 == 1\n",
    "\n",
    "point_1 = [0, 0, 0]\n",
    "point_2 = [0, 0, 1]\n",
    "\n",
    "dist1 = calculate_distance(point_1, point_2)\n",
    "assert dist1 == 1\n",
    "\n",
    "point_1 = [0, 0, 0]\n",
    "point_2 = [0, 1, 1]\n",
    "\n",
    "dist1 = calculate_distance(point_1, point_2)\n",
    "assert dist1 == math.sqrt(2)"
   ]
  },
  {
   "cell_type": "code",
   "execution_count": null,
   "id": "b18415ac-c119-447a-b308-835d7c1657ad",
   "metadata": {},
   "outputs": [],
   "source": []
  }
 ],
 "metadata": {
  "kernelspec": {
   "display_name": "Python 3 (ipykernel)",
   "language": "python",
   "name": "python3"
  },
  "language_info": {
   "codemirror_mode": {
    "name": "ipython",
    "version": 3
   },
   "file_extension": ".py",
   "mimetype": "text/x-python",
   "name": "python",
   "nbconvert_exporter": "python",
   "pygments_lexer": "ipython3",
   "version": "3.11.4"
  }
 },
 "nbformat": 4,
 "nbformat_minor": 5
}
