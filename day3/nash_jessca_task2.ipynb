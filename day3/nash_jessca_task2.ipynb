{
 "cells": [
  {
   "cell_type": "code",
   "execution_count": 11,
   "metadata": {},
   "outputs": [],
   "source": [
    "import math\n",
    "\n",
    "def generate_cubic_lattice(num_atoms, density):\n",
    "  \"\"\"\n",
    "  Generate points on a cubic lattice using a desired final density.\n",
    "\n",
    "  Parameters\n",
    "  ----------\n",
    "  num_atoms: int\n",
    "    The number of atoms to place on the lattice.\n",
    "  density: float\n",
    "    The desired system density.\n",
    "\n",
    "  Returns\n",
    "  -------\n",
    "  coords: list\n",
    "    A nested list of generated coordinates.\n",
    "  \"\"\"\n",
    "\n",
    "  # Calculate box length based on number of atoms and density.\n",
    "  volume = num_atoms / density\n",
    "  box_length = math.pow(volume, (1./3.))\n",
    "\n",
    "  # Calculate the upper bound of cube size.\n",
    "  # Our approach will be to place atoms until\n",
    "  # we place all needed. For this, we need\n",
    "  # to determine the maximum number of atoms on each\n",
    "  # side.\n",
    "  max_side = math.ceil(math.pow(num_atoms, (1./3.)))\n",
    "\n",
    "  # Determine spacing based on number of atoms\n",
    "  # and box length.\n",
    "  spacing = box_length / max_side # units length / atom\n",
    "  \n",
    "  coordinates = []\n",
    "  count = 0\n",
    "\n",
    "  for i in range(max_side):\n",
    "    for j in range(max_side):\n",
    "      for k in range(max_side):\n",
    "        coordinates.append([i*spacing, j*spacing, k*spacing])\n",
    "        count += 1\n",
    "        if count == num_atoms:\n",
    "          return coordinates, box_length"
   ]
  },
  {
   "cell_type": "code",
   "execution_count": 12,
   "metadata": {},
   "outputs": [],
   "source": [
    "coords, bl = generate_cubic_lattice(27, 1.0)"
   ]
  },
  {
   "cell_type": "code",
   "execution_count": 13,
   "metadata": {},
   "outputs": [],
   "source": [
    "assert(len(coords) == 27)\n"
   ]
  },
  {
   "cell_type": "code",
   "execution_count": 15,
   "metadata": {},
   "outputs": [],
   "source": [
    "assert bl == 3.0"
   ]
  },
  {
   "cell_type": "code",
   "execution_count": null,
   "metadata": {},
   "outputs": [],
   "source": []
  }
 ],
 "metadata": {
  "kernelspec": {
   "display_name": "msse-python",
   "language": "python",
   "name": "python3"
  },
  "language_info": {
   "codemirror_mode": {
    "name": "ipython",
    "version": 3
   },
   "file_extension": ".py",
   "mimetype": "text/x-python",
   "name": "python",
   "nbconvert_exporter": "python",
   "pygments_lexer": "ipython3",
   "version": "3.11.9"
  }
 },
 "nbformat": 4,
 "nbformat_minor": 2
}
