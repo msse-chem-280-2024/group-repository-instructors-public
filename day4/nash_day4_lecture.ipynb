{
 "cells": [
  {
   "cell_type": "markdown",
   "metadata": {},
   "source": [
    "# Day 4 Lecture"
   ]
  },
  {
   "cell_type": "code",
   "execution_count": 1,
   "metadata": {},
   "outputs": [],
   "source": [
    "import math\n",
    "\n",
    "def calculate_LJ(r_ij):\n",
    "    r6_term = math.pow(1/r_ij, 6)\n",
    "    r12_term = math.pow(r6_term, 2)\n",
    "    pairwise_energy = 4 * (r12_term - r6_term)\n",
    "    return pairwise_energy\n",
    "\n",
    "\n",
    "def calculate_distance(coord1, coord2, box_length=None):\n",
    "    \"\"\"\n",
    "    Calculate the distance between two 3D coordinates.\n",
    "\n",
    "    Parameters\n",
    "    ----------\n",
    "    coord1, coord2: list\n",
    "        The atomic coordinates\n",
    "\n",
    "    Returns\n",
    "    -------\n",
    "    distance: float\n",
    "        The distance between the two points.\n",
    "    \"\"\"\n",
    "\n",
    "    distance = 0\n",
    "    for i in range(3):\n",
    "        dim_dist = coord1[i] - coord2[i]\n",
    "\n",
    "        if box_length:\n",
    "            dim_dist = dim_dist - box_length * round(dim_dist / box_length)\n",
    "\n",
    "        dim_dist = dim_dist**2\n",
    "        distance += dim_dist\n",
    "\n",
    "    distance = math.sqrt(distance)\n",
    "    return distance\n",
    "    \n",
    "def calculate_total_energy(coordinates, box_length, cutoff):\n",
    "    \"\"\"\n",
    "    Calculate the total Lennard Jones energy of a system of particles.\n",
    "\n",
    "    Parameters\n",
    "    ----------\n",
    "    coordinates : list\n",
    "        Nested list containing particle coordinates.\n",
    "\n",
    "    Returns\n",
    "    -------\n",
    "    total_energy : float\n",
    "        The total pairwise Lennard Jones energy of the system of particles.\n",
    "    \"\"\"\n",
    "\n",
    "    total_energy = 0\n",
    "\n",
    "    num_atoms = len(coordinates)\n",
    "\n",
    "    for i in range(num_atoms):\n",
    "        for j in range(i + 1, num_atoms):\n",
    "\n",
    "            dist_ij = calculate_distance(\n",
    "                coordinates[i], coordinates[j], box_length=box_length\n",
    "            )\n",
    "\n",
    "            if dist_ij < cutoff:\n",
    "                interaction_energy = calculate_LJ(dist_ij)\n",
    "                total_energy += interaction_energy\n",
    "\n",
    "    return total_energy\n",
    "\n",
    "def read_xyz(filepath):\n",
    "    \"\"\"\n",
    "    Reads coordinates from an xyz file.\n",
    "    \n",
    "    Parameters\n",
    "    ----------\n",
    "    filepath : str\n",
    "       The path to the xyz file to be processed.\n",
    "       \n",
    "    Returns\n",
    "    -------\n",
    "    atomic_coordinates : list\n",
    "        A two dimensional list containing atomic coordinates\n",
    "\n",
    "    \"\"\"\n",
    "    \n",
    "    with open(filepath) as f:\n",
    "        box_length = float(f.readline().split()[0])\n",
    "        num_atoms = float(f.readline())\n",
    "        coordinates = f.readlines()\n",
    "    \n",
    "    atomic_coordinates = []\n",
    "    \n",
    "    for atom in coordinates:\n",
    "        split_atoms = atom.split()\n",
    "        \n",
    "        float_coords = []\n",
    "        \n",
    "        # We split this way to get rid of the atom label.\n",
    "        for coord in split_atoms[1:]:\n",
    "            float_coords.append(float(coord))\n",
    "            \n",
    "        atomic_coordinates.append(float_coords)\n",
    "        \n",
    "    \n",
    "    return atomic_coordinates, box_length\n",
    "\n",
    "def calculate_tail_correction(num_particles, box_length, cutoff):\n",
    "    \"\"\"\n",
    "    Calculate the long range tail correction\n",
    "    \"\"\"\n",
    "\n",
    "    const1 = (8 * math.pi * num_particles**2) / (3 * box_length**3)\n",
    "    const2 = (1 / 3) * (1 / cutoff) ** 9 - (1 / cutoff) ** 3\n",
    "\n",
    "    return const1 * const2"
   ]
  },
  {
   "cell_type": "code",
   "execution_count": 2,
   "metadata": {},
   "outputs": [],
   "source": [
    "nist_3cut = -4.3515E+03\n",
    "nist_4cut = -4.4675E+03\n",
    "\n",
    "config1_file = \"../data/sample_config1.txt\"\n",
    "\n",
    "coords, box_length = read_xyz(config1_file)\n",
    "\n",
    "calc_3cut = calculate_total_energy(coords, box_length, 3)\n",
    "calc_4cut = calculate_total_energy(coords, box_length, 4)"
   ]
  },
  {
   "cell_type": "code",
   "execution_count": 3,
   "metadata": {},
   "outputs": [
    {
     "name": "stdout",
     "output_type": "stream",
     "text": [
      "Cut off 3 energy: -4351.540194543858\n",
      "Cut off 4 energy: -4467.495724947969\n"
     ]
    }
   ],
   "source": [
    "print(f\"Cut off 3 energy: {calc_3cut}\")\n",
    "print(f\"Cut off 4 energy: {calc_4cut}\")"
   ]
  },
  {
   "cell_type": "code",
   "execution_count": 4,
   "metadata": {},
   "outputs": [],
   "source": [
    "assert math.isclose(calc_3cut, nist_3cut, rel_tol=0.02)\n",
    "assert math.isclose(calc_4cut, nist_4cut, rel_tol=0.02)"
   ]
  },
  {
   "cell_type": "code",
   "execution_count": 5,
   "metadata": {},
   "outputs": [],
   "source": [
    "import random \n",
    "\n",
    "def accept_or_reject(delta_e, beta):\n",
    "    \"\"\"\n",
    "    Accept or reject based on an energy and beta (inverse temperature) measurement.\n",
    "\n",
    "    Parameters\n",
    "    ----------\n",
    "    delta_e: float\n",
    "        An energy change in reduced units.\n",
    "    beta: float\n",
    "        Inverse temperature\n",
    "\n",
    "    Returns\n",
    "    -------\n",
    "    bool\n",
    "        True to accept move, False to reject\n",
    "    \"\"\"\n",
    "\n",
    "    if delta_e <= 0.0:\n",
    "        accept = True\n",
    "    else:\n",
    "        random_number = random.random()\n",
    "        p_acc = math.exp(-delta_e*beta)\n",
    "\n",
    "        if random_number < p_acc:\n",
    "            accept = True\n",
    "        else:\n",
    "            accept = False\n",
    "    \n",
    "    return accept"
   ]
  },
  {
   "cell_type": "code",
   "execution_count": 6,
   "metadata": {},
   "outputs": [],
   "source": [
    "# Sanity check\n",
    "delta_energy = -1\n",
    "beta = 1\n",
    "assert accept_or_reject(delta_energy, beta) is True"
   ]
  },
  {
   "cell_type": "code",
   "execution_count": 7,
   "metadata": {},
   "outputs": [],
   "source": [
    "delta_energy = 0\n",
    "beta = 1\n",
    "assert accept_or_reject(delta_energy, beta) is True"
   ]
  },
  {
   "cell_type": "code",
   "execution_count": 8,
   "metadata": {},
   "outputs": [
    {
     "data": {
      "text/plain": [
       "False"
      ]
     },
     "execution_count": 8,
     "metadata": {},
     "output_type": "execute_result"
    }
   ],
   "source": [
    "delta_energy = 1\n",
    "beta = 1\n",
    "accept_or_reject(delta_energy, beta)"
   ]
  },
  {
   "cell_type": "code",
   "execution_count": 9,
   "metadata": {},
   "outputs": [],
   "source": [
    "random.seed(0)\n",
    "delta_energy = 1\n",
    "beta = 1\n",
    "assert accept_or_reject(delta_energy, beta) is False"
   ]
  },
  {
   "cell_type": "code",
   "execution_count": 10,
   "metadata": {},
   "outputs": [
    {
     "name": "stdout",
     "output_type": "stream",
     "text": [
      "0.36787944117144233\n"
     ]
    }
   ],
   "source": [
    "p_acc = math.exp(-1 * 1)\n",
    "print(p_acc)"
   ]
  },
  {
   "cell_type": "code",
   "execution_count": 11,
   "metadata": {},
   "outputs": [],
   "source": [
    "# Find a random seed that will result in the move being accepted.\n",
    "# We're looking for a random seed where the generated number is less than 0.36787944117144233.\n",
    "random.seed(1)\n",
    "assert accept_or_reject(delta_energy, beta) is True"
   ]
  },
  {
   "cell_type": "code",
   "execution_count": 12,
   "metadata": {},
   "outputs": [],
   "source": [
    "def calculate_pair_energy(coordinates, i_particle, box_length, cutoff):\n",
    "    \"\"\"\n",
    "    Calculate the interaction energy of a particle with its environment (all other particles in the system).\n",
    "\n",
    "    Parameters\n",
    "    ----------\n",
    "    coordinates: list\n",
    "        The coordinates for all particles in the system.\n",
    "    i_particle: int\n",
    "        The particle index for which to calculate the energy.\n",
    "    cutoff: float\n",
    "        The simulation cutoff. Beyond this distance, the interactions are not calculated.\n",
    "\n",
    "    Returns\n",
    "    -------\n",
    "    e_total: float\n",
    "        The pairwise interaction energy of the i_th particle with all other particles.\n",
    "    \"\"\"\n",
    "\n",
    "    e_total = 0.0\n",
    "    i_position = coordinates[i_particle]\n",
    "\n",
    "    num_atoms = len(coordinates)\n",
    "\n",
    "    for j_particle in range(num_atoms):\n",
    "        if i_particle != j_particle:\n",
    "\n",
    "            j_position = coordinates[j_particle]\n",
    "\n",
    "            r_ij = calculate_distance(i_position, j_position, box_length)\n",
    "\n",
    "            if r_ij < cutoff:\n",
    "                e_pair = calculate_LJ(r_ij)\n",
    "                e_total += e_pair\n",
    "\n",
    "    return e_total"
   ]
  },
  {
   "cell_type": "code",
   "execution_count": 13,
   "metadata": {},
   "outputs": [
    {
     "name": "stdout",
     "output_type": "stream",
     "text": [
      "[[0, -1.122462048309373, 0], [0, 0, 0], [0, 1.122462048309373, 0]]\n"
     ]
    }
   ],
   "source": [
    "atom1 = [0, -math.pow(2, (1/6)), 0]\n",
    "atom2 = [0, 0, 0]\n",
    "atom3 = [0, math.pow(2, (1/6)), 0]\n",
    "\n",
    "coordinates = [ atom1, atom2, atom3 ]\n",
    "print(coordinates)"
   ]
  },
  {
   "cell_type": "code",
   "execution_count": 14,
   "metadata": {},
   "outputs": [],
   "source": [
    "assert calculate_pair_energy(coordinates, 1, 10, 3) == -2.0\n",
    "assert calculate_pair_energy(coordinates, 2, 10, 3) == calculate_pair_energy(coordinates, 0, 10, 3)"
   ]
  },
  {
   "cell_type": "markdown",
   "metadata": {},
   "source": [
    "## Simulation Loop"
   ]
  },
  {
   "cell_type": "code",
   "execution_count": 29,
   "metadata": {},
   "outputs": [],
   "source": [
    "# If you want your results to be reproducible\n",
    "random.seed(0)\n",
    "\n",
    "# Simulation Parameters\n",
    "reduced_temperature = 0.9\n",
    "num_steps = 5000\n",
    "max_displacement = 0.1\n",
    "cutoff = 3.0\n",
    "\n",
    "freq = 1000\n",
    "\n",
    "# Calculated quantites\n",
    "beta = 1 / reduced_temperature\n",
    "\n",
    "# Get initial coordinates (initial system configuration)\n",
    "coordinates, box_length = read_xyz(\"../data/sample_config1.txt\")\n",
    "num_particles = len(coordinates)\n",
    "\n",
    "delta_energy = 0\n",
    "\n",
    "total_energy = calculate_total_energy(coordinates, box_length, cutoff)\n",
    "total_energy += calculate_tail_correction(num_particles, box_length, cutoff)"
   ]
  },
  {
   "cell_type": "code",
   "execution_count": 30,
   "metadata": {},
   "outputs": [
    {
     "name": "stdout",
     "output_type": "stream",
     "text": [
      "0 -5.6886200705459125\n",
      "1000 -5.679007963444937\n",
      "2000 -5.699453759871805\n",
      "3000 -5.654305513583807\n",
      "4000 -5.646748359462866\n"
     ]
    }
   ],
   "source": [
    "steps = []\n",
    "energies = []\n",
    "\n",
    "for step in range(num_steps):\n",
    "\n",
    "    # 1. Randomly pick one of N particles\n",
    "    random_particle = random.randrange(num_particles)\n",
    "\n",
    "    # 2. Calculate the interaction energy of the selected particle with the system and store this value.\n",
    "    current_energy = calculate_pair_energy(coordinates, random_particle, box_length, cutoff) \n",
    "\n",
    "    # 3. Generate a random x, y, z displacement\n",
    "    x_rand = random.uniform(-max_displacement, max_displacement) \n",
    "    y_rand = random.uniform(-max_displacement, max_displacement) \n",
    "    z_rand = random.uniform(-max_displacement, max_displacement) \n",
    "\n",
    "    # 4. Modify the coordinate of Nth particle by the generated displacements.\n",
    "    coordinates[random_particle][0] += x_rand\n",
    "    coordinates[random_particle][1] += y_rand\n",
    "    coordinates[random_particle][2] += z_rand\n",
    "\n",
    "    # 5. Calculate the interaction energy of the selected particle with the system and store this value (using the new position).\n",
    "    proposed_energy = calculate_pair_energy(coordinates, random_particle, box_length, cutoff) \n",
    "\n",
    "    # 6. Calculate the change in energy and decide to accept or reject the change.\n",
    "    delta_e = proposed_energy - current_energy\n",
    "\n",
    "    accept = accept_or_reject(delta_e, beta)\n",
    "\n",
    "    # 7. If accept, keep particle movement. If reject, move particle back.\n",
    "    if accept:\n",
    "        total_energy += delta_e\n",
    "    else:\n",
    "        # Move is not accepted, roll back coordiantes\n",
    "        coordinates[random_particle][0] -= x_rand\n",
    "        coordinates[random_particle][1] -= y_rand\n",
    "        coordinates[random_particle][2] -= z_rand\n",
    "\n",
    "\n",
    "    # 8. Print the energy if the step is a multiple of freq\n",
    "    if step % freq == 0:\n",
    "        print(step, total_energy/num_particles)\n",
    "        steps.append(step)\n",
    "        energies.append(total_energy)"
   ]
  },
  {
   "cell_type": "code",
   "execution_count": null,
   "metadata": {},
   "outputs": [],
   "source": []
  }
 ],
 "metadata": {
  "kernelspec": {
   "display_name": "msse-python",
   "language": "python",
   "name": "python3"
  },
  "language_info": {
   "codemirror_mode": {
    "name": "ipython",
    "version": 3
   },
   "file_extension": ".py",
   "mimetype": "text/x-python",
   "name": "python",
   "nbconvert_exporter": "python",
   "pygments_lexer": "ipython3",
   "version": "3.11.9"
  }
 },
 "nbformat": 4,
 "nbformat_minor": 2
}
